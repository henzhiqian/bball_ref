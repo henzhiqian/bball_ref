{
 "cells": [
  {
   "cell_type": "code",
   "execution_count": 28,
   "metadata": {},
   "outputs": [],
   "source": [
    "import numpy as np\n",
    "import cv2\n",
    "import math\n",
    "from scipy import ndimage\n",
    "import pytesseract\n",
    "from tqdm import tqdm_notebook\n",
    "import pandas as pd\n",
    "from ipywidgets import IntProgress"
   ]
  },
  {
   "cell_type": "code",
   "execution_count": 2,
   "metadata": {},
   "outputs": [],
   "source": [
    "IMAGE_FILE_LOCATION = \"C:/Users/zhiqian/Downloads/coordinates.png\" \n",
    "VIDEO_FILE_LOCATION = \"C:/Users/zhiqian/Downloads/videotest.mp4\" \n",
    "\n",
    "input_img = cv2.imread(IMAGE_FILE_LOCATION) # image read"
   ]
  },
  {
   "cell_type": "code",
   "execution_count": 3,
   "metadata": {},
   "outputs": [],
   "source": [
    "pytesseract.pytesseract.tesseract_cmd = r'C:\\Users\\zhiqian\\AppData\\Local\\Tesseract-OCR\\tesseract.exe'\n",
    "\n",
    "custom_oem_psm_config_1 = r'--psm 10 --oem 3 -c tessedit_char_whitelist=1234'\n",
    "custom_oem_psm_config_2 = r'--psm 6 --oem 3 -c tessedit_char_whitelist=0123456789:'\n",
    "custom_oem_psm_config_3 = r'--psm 6 --oem 3 -c tessedit_char_whitelist=0123456789'"
   ]
  },
  {
   "cell_type": "code",
   "execution_count": 4,
   "metadata": {},
   "outputs": [],
   "source": [
    "# coordinates = [(1002, 622), (1220, 652)]\n",
    "coordinates = [(1002, 662), (1220, 689)]\n",
    "coordinates_1 = [(1022, 662), (1076, 689)]\n",
    "coordinates_2 = [(1078, 662), (1153, 689)]\n",
    "coordinates_2_min = [(1083, 662), (1110, 688)]\n",
    "coordinates_2_sec = [(1118, 662), (1153, 689)]\n",
    "\n",
    "coordinates_3 = [(1159, 662), (1201, 689)]"
   ]
  },
  {
   "cell_type": "code",
   "execution_count": 19,
   "metadata": {},
   "outputs": [
    {
     "data": {
      "text/plain": [
       "218"
      ]
     },
     "execution_count": 19,
     "metadata": {},
     "output_type": "execute_result"
    }
   ],
   "source": [
    "1220-1002"
   ]
  },
  {
   "cell_type": "code",
   "execution_count": 40,
   "metadata": {},
   "outputs": [],
   "source": [
    "def search_box(frame):\n",
    "    gray = cv2.cvtColor(frame, cv2.COLOR_BGR2GRAY)\n",
    " \n",
    "    ret,thresh = cv2.threshold(gray,127,255,1)\n",
    "    contours,h = cv2.findContours(thresh,1,2)\n",
    "\n",
    "    for cnt in contours:\n",
    "        (x,y,w,h) = cv2.boundingRect(cnt)\n",
    "\n",
    "        if x>1018 & y>540 & w>100 & h>25:\n",
    "            approx = cv2.approxPolyDP(cnt,0.01*cv2.arcLength(cnt,True),True)\n",
    "#             print(x, y, w, h, len(approx))\n",
    "\n",
    "            if len(approx)==4:\n",
    "                cv2.drawContours(img,[cnt],0,(0,0,255),-1)\n",
    "                cv2.rectangle(img, (x,y), (x+w,y+h), (0,255,0), 2)\n",
    "                \n",
    "                cv2.imwrite('rect.png',img)\n",
    "                print('FOund')"
   ]
  },
  {
   "cell_type": "code",
   "execution_count": 41,
   "metadata": {},
   "outputs": [
    {
     "data": {
      "application/vnd.jupyter.widget-view+json": {
       "model_id": "cbd9db9bf1ab42fb85279cbe129e4815",
       "version_major": 2,
       "version_minor": 0
      },
      "text/plain": [
       "IntProgress(value=0, max=18056)"
      ]
     },
     "metadata": {},
     "output_type": "display_data"
    }
   ],
   "source": [
    "# Test box search\n",
    "cap = cv2.VideoCapture(VIDEO_FILE_LOCATION)\n",
    "max_count = cap.get(cv2.CAP_PROP_FRAME_COUNT)\n",
    "\n",
    "# Progress Bar\n",
    "f = IntProgress(min=0, max=max_count) # instantiate the bar\n",
    "display(f) # display the bar\n",
    "\n",
    "# Check if camera opened successfully\n",
    "if (cap.isOpened()== False): \n",
    "    print(\"Error opening video stream or file\")\n",
    "\n",
    "count = 0\n",
    "# Read until video is completed\n",
    "while(cap.isOpened()):\n",
    "    # Capture frame-by-frame\n",
    "    ret, frame = cap.read()\n",
    "\n",
    "    if ret == True:\n",
    "        temp = []\n",
    "        \n",
    "        search_box(frame)\n",
    "        \n",
    "        count += 30 # i.e. at 30 fps, this advances one second\n",
    "        f.value = count # signal to increment the progress bar\n",
    "        cap.set(1, count)\n",
    "        \n",
    "        \n",
    "        # Press Q on keyboard to  exit\n",
    "        if cv2.waitKey(25) & 0xFF == ord('q'):\n",
    "            break\n",
    "            \n",
    "    # Break the loop\n",
    "    else: \n",
    "        break\n",
    "        \n",
    "# When everything done, release the video capture object\n",
    "cap.release()\n",
    " \n",
    "# Closes all the frames\n",
    "cv2.destroyAllWindows()"
   ]
  },
  {
   "cell_type": "code",
   "execution_count": 34,
   "metadata": {},
   "outputs": [],
   "source": [
    "box_length = coordinates[1][0] - coordinates[0][0]"
   ]
  },
  {
   "cell_type": "code",
   "execution_count": 38,
   "metadata": {},
   "outputs": [
    {
     "name": "stdout",
     "output_type": "stream",
     "text": [
      "0.24770642201834864 0.3440366972477064 0.1926605504587156\n"
     ]
    }
   ],
   "source": [
    "ratio_1 = (coordinates_1[1][0] - coordinates_1[0][0])/box_length\n",
    "ratio_2 = (coordinates_2[1][0] - coordinates_2[0][0])/box_length\n",
    "ratio_3 = (coordinates_3[1][0] - coordinates_3[0][0])/box_length\n",
    "\n",
    "print(ratio_1, ratio_2, ratio_3)"
   ]
  },
  {
   "cell_type": "code",
   "execution_count": 24,
   "metadata": {},
   "outputs": [],
   "source": [
    "def get_time_from_frame(frame, coordinates, config):\n",
    "    image_roi = frame[coordinates[0][1]:coordinates[1][1], \n",
    "                           coordinates[0][0]:coordinates[1][0]] \n",
    "\n",
    "    text = pytesseract.image_to_string(image_roi, config=config)\n",
    "    return text"
   ]
  },
  {
   "cell_type": "code",
   "execution_count": 30,
   "metadata": {},
   "outputs": [],
   "source": [
    "total_list = []"
   ]
  },
  {
   "cell_type": "code",
   "execution_count": 31,
   "metadata": {},
   "outputs": [
    {
     "data": {
      "application/vnd.jupyter.widget-view+json": {
       "model_id": "",
       "version_major": 2,
       "version_minor": 0
      },
      "text/plain": [
       "IntProgress(value=0, max=18056)"
      ]
     },
     "metadata": {},
     "output_type": "display_data"
    },
    {
     "ename": "NameError",
     "evalue": "name 'quarter' is not defined",
     "output_type": "error",
     "traceback": [
      "\u001b[1;31m---------------------------------------------------------------------------\u001b[0m",
      "\u001b[1;31mNameError\u001b[0m                                 Traceback (most recent call last)",
      "\u001b[1;32m<ipython-input-31-e33f7dab6600>\u001b[0m in \u001b[0;36m<module>\u001b[1;34m\u001b[0m\n\u001b[0;32m     37\u001b[0m         \u001b[0msearch_box\u001b[0m\u001b[1;33m(\u001b[0m\u001b[0mframe\u001b[0m\u001b[1;33m)\u001b[0m\u001b[1;33m\u001b[0m\u001b[1;33m\u001b[0m\u001b[0m\n\u001b[0;32m     38\u001b[0m         \u001b[1;31m# Append to total list\u001b[0m\u001b[1;33m\u001b[0m\u001b[1;33m\u001b[0m\u001b[1;33m\u001b[0m\u001b[0m\n\u001b[1;32m---> 39\u001b[1;33m         \u001b[0mtotal_list\u001b[0m\u001b[1;33m.\u001b[0m\u001b[0mappend\u001b[0m\u001b[1;33m(\u001b[0m\u001b[1;33m[\u001b[0m\u001b[0mtimestamp\u001b[0m\u001b[1;33m,\u001b[0m \u001b[0mquarter\u001b[0m\u001b[1;33m,\u001b[0m \u001b[0mtime\u001b[0m\u001b[1;33m,\u001b[0m \u001b[0mclock\u001b[0m\u001b[1;33m]\u001b[0m\u001b[1;33m)\u001b[0m\u001b[1;33m\u001b[0m\u001b[1;33m\u001b[0m\u001b[0m\n\u001b[0m\u001b[0;32m     40\u001b[0m \u001b[1;33m\u001b[0m\u001b[0m\n\u001b[0;32m     41\u001b[0m \u001b[1;33m\u001b[0m\u001b[0m\n",
      "\u001b[1;31mNameError\u001b[0m: name 'quarter' is not defined"
     ]
    }
   ],
   "source": [
    "cap = cv2.VideoCapture(VIDEO_FILE_LOCATION)\n",
    "# fps = cap.get(cv2.CAP_PROP_FPS)\n",
    "\n",
    "max_count = cap.get(cv2CAP_PROP_FRAME_COUNT)\n",
    "\n",
    "# Progress Bar\n",
    "f = IntProgress(min=0, max=max_count) # instantiate the bar\n",
    "display(f) # display the bar\n",
    "\n",
    "# Check if camera opened successfully\n",
    "if (cap.isOpened()== False): \n",
    "    print(\"Error opening video stream or file\")\n",
    "\n",
    "count = 0\n",
    "# Read until video is completed\n",
    "while(cap.isOpened()):\n",
    "    # Capture frame-by-frame\n",
    "    ret, frame = cap.read()\n",
    "\n",
    "    if ret == True:\n",
    "        temp = []\n",
    "        \n",
    "        # Get timestamp\n",
    "        timestamp = cap.get(cv2.CAP_PROP_POS_MSEC)\n",
    "        \n",
    "        # Drawing a rectangle around the region of interest (roi)\n",
    "#         cv2.rectangle(frame, coordinates_2_min[0], coordinates_2_min[1], (0,0,255), 2) \n",
    "\n",
    "        # Get in game time info\n",
    "        quarter = get_time_from_frame(frame, coordinates=coordinates_1, config=custom_oem_psm_config_1)\n",
    "        time = get_time_from_frame(frame, coordinates=coordinates_2, config=custom_oem_psm_config_2)\n",
    "        clock = get_time_from_frame(frame, coordinates=coordinates_3, config=custom_oem_psm_config_3)\n",
    "\n",
    "        # Display the resulting frame\n",
    "#         cv2.imshow('Frame',frame)\n",
    "\n",
    "        # Append to total list\n",
    "        total_list.append([timestamp, quarter, time, clock])\n",
    "\n",
    "\n",
    "        count += 30 # i.e. at 30 fps, this advances one second\n",
    "        f.value = count # signal to increment the progress bar\n",
    "        cap.set(1, count)\n",
    "        \n",
    "\n",
    "        # Press Q on keyboard to  exit\n",
    "        if cv2.waitKey(25) & 0xFF == ord('q'):\n",
    "            break\n",
    "            \n",
    "    # Break the loop\n",
    "    else: \n",
    "        break\n",
    "        \n",
    "# When everything done, release the video capture object\n",
    "cap.release()\n",
    " \n",
    "# Closes all the frames\n",
    "cv2.destroyAllWindows()"
   ]
  },
  {
   "cell_type": "code",
   "execution_count": 27,
   "metadata": {},
   "outputs": [],
   "source": [
    "# Convert list into DF\n",
    "df = pd.DataFrame(total_list, columns=['Timestamp','Quarter','Gametime','Clock'])\n",
    "df['Timestamp'] = df['Timestamp']/1000"
   ]
  },
  {
   "cell_type": "code",
   "execution_count": 28,
   "metadata": {},
   "outputs": [],
   "source": [
    "df.to_csv('timestamp2.csv')"
   ]
  },
  {
   "cell_type": "markdown",
   "metadata": {},
   "source": [
    "## Appendix"
   ]
  },
  {
   "cell_type": "code",
   "execution_count": 15,
   "metadata": {
    "jupyter": {
     "source_hidden": true
    }
   },
   "outputs": [],
   "source": [
    "# # REGION OF INTEREST (ROI) SELECTION\n",
    "\n",
    "# # initializing the list for storing the coordinates \n",
    "# coordinates = [] \n",
    "  \n",
    "# # Defining the event listener (callback function)\n",
    "# def shape_selection(event, x, y, flags, param): \n",
    "#     # making coordinates global\n",
    "#     global coordinates \n",
    "  \n",
    "#     # Storing the (x1,y1) coordinates when left mouse button is pressed  \n",
    "#     if event == cv2.EVENT_LBUTTONDOWN: \n",
    "#         coordinates = [(x, y)] \n",
    "  \n",
    "#     # Storing the (x2,y2) coordinates when the left mouse button is released and make a rectangle on the selected region\n",
    "#     elif event == cv2.EVENT_LBUTTONUP: \n",
    "#         coordinates.append((x, y)) \n",
    "#         print(coordinates)\n",
    "#         # Drawing a rectangle around the region of interest (roi)\n",
    "#         cv2.rectangle(image, coordinates[0], coordinates[1], (0,0,255), 2) \n",
    "#         cv2.imshow(\"image\", image) \n",
    "\n",
    "# # load the image, clone it, and setup the mouse callback function \n",
    "# image = input_img\n",
    "# image_copy = image.copy()\n",
    "# cv2.namedWindow(\"image\") \n",
    "# cv2.setMouseCallback(\"image\", shape_selection) \n",
    "  \n",
    "# # keep looping until the 'q' key is pressed \n",
    "# while True: \n",
    "#     # display the image and wait for a keypress \n",
    "#     cv2.imshow(\"image\", image) \n",
    "#     key = cv2.waitKey(1) & 0xFF\n",
    "  \n",
    "#     if key==13: # If 'enter' is pressed, apply OCR\n",
    "#         break\n",
    "    \n",
    "#     if key == ord(\"c\"): # Clear the selection when 'c' is pressed \n",
    "#         image = image_copy.copy() \n",
    "\n",
    "# # if len(coordinates) == 2: \n",
    "# #     image_roi = image_copy[coordinates[0][1]:coordinates[1][1], \n",
    "# #                                coordinates[0][0]:coordinates[1][0]] \n",
    "# #     cv2.imshow(\"Selected Region of Interest - Press any key to proceed\", image_roi) \n",
    "# #     cv2.waitKey(0) \n",
    "    \n",
    "# # # closing all open windows \n",
    "# # cv2.destroyAllWindows()  "
   ]
  }
 ],
 "metadata": {
  "kernelspec": {
   "display_name": "Python 3",
   "language": "python",
   "name": "python3"
  },
  "language_info": {
   "codemirror_mode": {
    "name": "ipython",
    "version": 3
   },
   "file_extension": ".py",
   "mimetype": "text/x-python",
   "name": "python",
   "nbconvert_exporter": "python",
   "pygments_lexer": "ipython3",
   "version": "3.7.3"
  }
 },
 "nbformat": 4,
 "nbformat_minor": 4
}

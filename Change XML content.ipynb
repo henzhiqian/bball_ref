{
 "cells": [
  {
   "cell_type": "code",
   "execution_count": 22,
   "metadata": {},
   "outputs": [],
   "source": [
    "import os\n",
    "import re\n",
    "import tqdm\n",
    "from ipywidgets import IntProgress"
   ]
  },
  {
   "cell_type": "code",
   "execution_count": 23,
   "metadata": {},
   "outputs": [],
   "source": [
    "xml_path = r'C:\\Users\\zhiqian\\Desktop\\GitHub\\darkflow\\annotations\\\\'"
   ]
  },
  {
   "cell_type": "code",
   "execution_count": 27,
   "metadata": {},
   "outputs": [],
   "source": [
    "def rename(filename):\n",
    "\n",
    "    inFile = open(filename, 'r')\n",
    "    data = inFile.read()\n",
    "    inFile.close()\n",
    "\n",
    "    # Replace png with jpg\n",
    "    data = data.replace('.png','.jpg')\n",
    "\n",
    "    outFile = open(filename, 'w')\n",
    "    outFile.writelines(data)\n",
    "    outFile.close()"
   ]
  },
  {
   "cell_type": "code",
   "execution_count": 28,
   "metadata": {},
   "outputs": [
    {
     "data": {
      "application/vnd.jupyter.widget-view+json": {
       "model_id": "ee9c12b45fca40dea75700e35859a3ee",
       "version_major": 2,
       "version_minor": 0
      },
      "text/plain": [
       "IntProgress(value=0, max=603)"
      ]
     },
     "metadata": {},
     "output_type": "display_data"
    }
   ],
   "source": [
    "# Progress Bar\n",
    "f = IntProgress(min=0, max=len(os.listdir(xml_path))) # instantiate the bar\n",
    "display(f) # display the bar\n",
    "\n",
    "for filename in os.listdir(xml_path):\n",
    "    if not filename.endswith('.xml'): continue\n",
    "    fullname = os.path.join(xml_path, filename)\n",
    "    \n",
    "    rename(fullname)\n",
    "    f.value += 1"
   ]
  },
  {
   "cell_type": "code",
   "execution_count": null,
   "metadata": {},
   "outputs": [],
   "source": []
  }
 ],
 "metadata": {
  "kernelspec": {
   "display_name": "Python 3",
   "language": "python",
   "name": "python3"
  },
  "language_info": {
   "codemirror_mode": {
    "name": "ipython",
    "version": 3
   },
   "file_extension": ".py",
   "mimetype": "text/x-python",
   "name": "python",
   "nbconvert_exporter": "python",
   "pygments_lexer": "ipython3",
   "version": "3.6.7"
  }
 },
 "nbformat": 4,
 "nbformat_minor": 2
}

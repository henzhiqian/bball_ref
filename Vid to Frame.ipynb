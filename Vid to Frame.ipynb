{
 "cells": [
  {
   "cell_type": "code",
   "execution_count": 1,
   "metadata": {},
   "outputs": [],
   "source": [
    "import numpy as np\n",
    "import cv2\n",
    "import math\n",
    "from scipy import ndimage\n",
    "import pytesseract\n",
    "from tqdm import tqdm_notebook\n",
    "import pandas as pd\n",
    "from ipywidgets import IntProgress"
   ]
  },
  {
   "cell_type": "code",
   "execution_count": 5,
   "metadata": {},
   "outputs": [],
   "source": [
    "IMAGE_FILE_LOCATION = \"C:/Users/zhiqian/Downloads/coordinates.png\" \n",
    "# VIDEO_FILE_LOCATION = \"C:/Users/zhiqian/Downloads/videotest.mp4\" \n",
    "# VIDEO_FILE_LOCATION = \"C:/Users/zhiqian/Downloads/videotest_1.mp4\" \n",
    "VIDEO_FILE_LOCATION = \"C:/Users/zhiqian/Downloads/videotest_2.mp4\" \n",
    "video_path = r\"C:/Users/zhiqian/Downloads/frames/\""
   ]
  },
  {
   "cell_type": "code",
   "execution_count": 6,
   "metadata": {},
   "outputs": [
    {
     "data": {
      "application/vnd.jupyter.widget-view+json": {
       "model_id": "8c26294183394c06a1f92a49f1c5903e",
       "version_major": 2,
       "version_minor": 0
      },
      "text/plain": [
       "IntProgress(value=0, max=2497)"
      ]
     },
     "metadata": {},
     "output_type": "display_data"
    }
   ],
   "source": [
    "cap = cv2.VideoCapture(VIDEO_FILE_LOCATION)\n",
    "\n",
    "# Progress Bar\n",
    "max_count = cap.get(cv2.CAP_PROP_FRAME_COUNT)\n",
    "f = IntProgress(min=0, max=max_count) # instantiate the bar\n",
    "display(f) # display the bar\n",
    "\n",
    "count=0\n",
    "while(cap.isOpened()):\n",
    "    ret, frame = cap.read()\n",
    "    if ret == True:\n",
    "        cv2.imwrite(video_path+\"2_frame%d.jpg\" % count, frame)     # save frame as JPEG file      \n",
    "\n",
    "        count += 30 # i.e. at 30 fps, this advances one second\n",
    "        f.value = count # signal to increment the progress bar\n",
    "        cap.set(1, count)\n",
    "    \n",
    "    # Break the loop\n",
    "    else: \n",
    "        break"
   ]
  },
  {
   "cell_type": "code",
   "execution_count": null,
   "metadata": {},
   "outputs": [],
   "source": []
  }
 ],
 "metadata": {
  "kernelspec": {
   "display_name": "Python 3",
   "language": "python",
   "name": "python3"
  },
  "language_info": {
   "codemirror_mode": {
    "name": "ipython",
    "version": 3
   },
   "file_extension": ".py",
   "mimetype": "text/x-python",
   "name": "python",
   "nbconvert_exporter": "python",
   "pygments_lexer": "ipython3",
   "version": "3.6.7"
  }
 },
 "nbformat": 4,
 "nbformat_minor": 2
}
